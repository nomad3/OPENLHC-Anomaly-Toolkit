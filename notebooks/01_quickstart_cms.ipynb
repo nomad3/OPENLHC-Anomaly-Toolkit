{
  "cells": [
    {
      "cell_type": "code",
      "execution_count": null,
      "metadata": {
        "vscode": {
          "languageId": "plaintext"
        }
      },
      "outputs": [],
      "source": [
        "# OpenLHC-Anomaly Toolkit — Quickstart (CMS minimal)\n",
        "\n",
        "This notebook runs an end-to-end anomaly detection baseline (AE or PCA) on a toy-sized dataset.\n",
        "\n",
        "- By default, it uses a synthetic dataset so it works out-of-the-box.\n",
        "- To use real data, convert a ROOT file to Parquet or point to a local/remote ROOT/Parquet in `configs/cms_config.yaml`.\n"
      ]
    },
    {
      "cell_type": "code",
      "execution_count": null,
      "metadata": {},
      "outputs": [],
      "source": [
        "# Install (if needed) and set up paths\n",
        "import sys, os, subprocess\n",
        "\n",
        "REPO_ROOT = os.path.abspath(os.path.join(os.getcwd(), '..'))\n",
        "if REPO_ROOT not in sys.path:\n",
        "    sys.path.insert(0, REPO_ROOT)\n",
        "\n",
        "print('Repo root:', REPO_ROOT)\n"
      ]
    },
    {
      "cell_type": "code",
      "execution_count": null,
      "metadata": {},
      "outputs": [],
      "source": [
        "# Prepare minimal configs (synthetic data)\n",
        "from pathlib import Path\n",
        "import yaml\n",
        "\n",
        "repo = Path(REPO_ROOT)\n",
        "configs = repo / 'configs'\n",
        "configs.mkdir(parents=True, exist_ok=True)\n",
        "\n",
        "cms_cfg = configs / 'cms_config.yaml'\n",
        "if not cms_cfg.exists():\n",
        "    cms_cfg.write_text(yaml.safe_dump({\n",
        "        'dataset_name': 'cms_open_data_minimal',\n",
        "        'root_files': [],\n",
        "        'features': ['f1','f2','f3','f4','f5'],\n",
        "        'split': {'train':0.7,'val':0.15,'test':0.15},\n",
        "        'cache_parquet': str(repo / 'data/processed/synth.parquet'),\n",
        "        'max_events': 10000,\n",
        "    }))\n",
        "\n",
        "model_cfg = configs / 'model_config.yaml'\n",
        "if not model_cfg.exists():\n",
        "    model_cfg.write_text(yaml.safe_dump({\n",
        "        'model': 'autoencoder',\n",
        "        'seed': 42,\n",
        "        'ae': {\n",
        "            'hidden_dims': [64,32,16,32,64],\n",
        "            'activation': 'relu',\n",
        "            'dropout': 0.0,\n",
        "            'lr': 1e-3,\n",
        "            'batch_size': 256,\n",
        "            'epochs': 3,\n",
        "            'device': 'cpu',\n",
        "        }\n",
        "    }))\n",
        "\n",
        "print('Configs ready:', cms_cfg, model_cfg)\n"
      ]
    },
    {
      "cell_type": "code",
      "execution_count": null,
      "metadata": {},
      "outputs": [],
      "source": [
        "# Generate synthetic Parquet if missing\n",
        "from scripts.prepare_data import generate_synthetic_parquet\n",
        "\n",
        "parquet_path = Path(REPO_ROOT) / 'data/processed/synth.parquet'\n",
        "if not parquet_path.exists():\n",
        "    generate_synthetic_parquet(parquet_path)\n",
        "parquet_path\n"
      ]
    },
    {
      "cell_type": "code",
      "execution_count": null,
      "metadata": {},
      "outputs": [],
      "source": [
        "# Train\n",
        "from backend.train import run_training\n",
        "\n",
        "run_info = run_training(\n",
        "    Path(REPO_ROOT) / 'configs/cms_config.yaml',\n",
        "    Path(REPO_ROOT) / 'configs/model_config.yaml',\n",
        "    Path(REPO_ROOT) / 'results/runs/quickstart_ae',\n",
        ")\n",
        "run_info\n"
      ]
    },
    {
      "cell_type": "code",
      "execution_count": null,
      "metadata": {},
      "outputs": [],
      "source": [
        "# Evaluate\n",
        "from backend.evaluate import run_evaluation\n",
        "\n",
        "metrics = run_evaluation(\n",
        "    Path(REPO_ROOT) / 'results/runs/quickstart_ae',\n",
        "    Path(REPO_ROOT) / 'results/plots/quickstart_ae',\n",
        "    Path(REPO_ROOT) / 'results/leaderboard.json',\n",
        ")\n",
        "metrics\n"
      ]
    }
  ],
  "metadata": {
    "language_info": {
      "name": "python"
    }
  },
  "nbformat": 4,
  "nbformat_minor": 2
}
